{
 "cells": [
  {
   "cell_type": "markdown",
   "id": "45eb8a28-87c0-4484-856d-739dba8d2f49",
   "metadata": {},
   "source": [
    "# Question 1"
   ]
  },
  {
   "cell_type": "markdown",
   "id": "98c508cf-3ac9-48f0-80e2-b7aaf7b94540",
   "metadata": {},
   "source": [
    "### 1a) To assess the measurement statistics for each sample I first load the CVS file and compute a mean measure of central tendency and a standard deviation measure of spread."
   ]
  },
  {
   "cell_type": "markdown",
   "id": "1a7885c4-d26d-4d3c-a6bd-6833c1a725b9",
   "metadata": {},
   "source": [
    "### 1b)\n"
   ]
  },
  {
   "cell_type": "markdown",
   "id": "78ba87c2-89b0-4914-b642-51f9639f3a0d",
   "metadata": {},
   "source": [
    "### 1c)"
   ]
  },
  {
   "cell_type": "markdown",
   "id": "c799810e-d6ee-4eb1-a331-3d8260b6cce2",
   "metadata": {},
   "source": [
    "# Question 2"
   ]
  },
  {
   "cell_type": "markdown",
   "id": "390eabdc-1f0d-4a49-80cc-4dae3c841b4e",
   "metadata": {},
   "source": [
    "### 2a)"
   ]
  },
  {
   "cell_type": "markdown",
   "id": "60544b7b-c83a-453e-bbaa-505b25d75307",
   "metadata": {},
   "source": [
    "### 2b)\n"
   ]
  },
  {
   "cell_type": "markdown",
   "id": "001be607-752a-4c34-87f0-0b866cd8308c",
   "metadata": {},
   "source": [
    "### 2c)\n"
   ]
  },
  {
   "cell_type": "markdown",
   "id": "1d3c1b91-50e8-4102-be4f-32d4816587ee",
   "metadata": {},
   "source": [
    "### 2d)\n"
   ]
  },
  {
   "cell_type": "markdown",
   "id": "9531c2c1-a3a9-4c5c-98b1-f3a796717ea2",
   "metadata": {},
   "source": [
    "# Question 3"
   ]
  },
  {
   "cell_type": "markdown",
   "id": "f1fbc021-04f7-4539-b525-9c0deb451ab2",
   "metadata": {},
   "source": [
    "### 3a)\n"
   ]
  },
  {
   "cell_type": "markdown",
   "id": "356e1533-f549-4f0b-b475-0b54c98557b8",
   "metadata": {},
   "source": [
    "### 3b)\n"
   ]
  },
  {
   "cell_type": "markdown",
   "id": "70dbbafa-7e24-4edc-8035-d24f8378ef09",
   "metadata": {},
   "source": [
    "### 3c)\n"
   ]
  },
  {
   "cell_type": "markdown",
   "id": "8e6cc6bf-6272-42c3-b964-ab2de2845a99",
   "metadata": {},
   "source": [
    "# Question 4"
   ]
  },
  {
   "cell_type": "markdown",
   "id": "2357685a-6cad-4086-8b86-5933155e71fa",
   "metadata": {},
   "source": [
    "### 4a)\n"
   ]
  },
  {
   "cell_type": "markdown",
   "id": "0705d6f1-321f-4e83-b9f3-6cc4050a2caf",
   "metadata": {},
   "source": [
    "### 4b)\n"
   ]
  },
  {
   "cell_type": "markdown",
   "id": "b05ae1e2-7c71-405f-8aeb-e58d249e575c",
   "metadata": {},
   "source": [
    "### 4c)\n"
   ]
  },
  {
   "cell_type": "markdown",
   "id": "c505a511-aec4-45d0-bf04-ea79e513ed41",
   "metadata": {},
   "source": [
    "### 4d)\n"
   ]
  },
  {
   "cell_type": "markdown",
   "id": "8857f6e0-12d7-4a6f-855c-bebbc7359281",
   "metadata": {},
   "source": [
    "# Question 5"
   ]
  },
  {
   "cell_type": "markdown",
   "id": "3061d6b4-d850-46ce-91ae-8d87a51f7400",
   "metadata": {},
   "source": [
    "### 5a)\n"
   ]
  },
  {
   "cell_type": "markdown",
   "id": "485783fc-0ea5-4ec2-ae80-de5ee36e5b91",
   "metadata": {},
   "source": [
    "### 5b)\n"
   ]
  },
  {
   "cell_type": "markdown",
   "id": "cc87965c-0201-498f-b55e-7dd28b8b214f",
   "metadata": {},
   "source": [
    "### 5c)\n"
   ]
  },
  {
   "cell_type": "code",
   "execution_count": null,
   "id": "b781c92b-6787-4115-8f7d-82b9a8805210",
   "metadata": {},
   "outputs": [],
   "source": []
  }
 ],
 "metadata": {
  "kernelspec": {
   "display_name": "Python 3 (ipykernel)",
   "language": "python",
   "name": "python3"
  },
  "language_info": {
   "codemirror_mode": {
    "name": "ipython",
    "version": 3
   },
   "file_extension": ".py",
   "mimetype": "text/x-python",
   "name": "python",
   "nbconvert_exporter": "python",
   "pygments_lexer": "ipython3",
   "version": "3.12.4"
  }
 },
 "nbformat": 4,
 "nbformat_minor": 5
}
